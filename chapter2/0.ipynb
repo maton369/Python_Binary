{
 "cells": [
  {
   "cell_type": "code",
   "execution_count": 1,
   "id": "148d623d",
   "metadata": {},
   "outputs": [
    {
     "name": "stdout",
     "output_type": "stream",
     "text": [
      "/bin/ls\n"
     ]
    }
   ],
   "source": [
    "!which ls"
   ]
  },
  {
   "cell_type": "code",
   "execution_count": null,
   "id": "ec526233",
   "metadata": {},
   "outputs": [],
   "source": [
    "def cat(filepath):\n",
    "    with open(filepath) as f:\n",
    "        body = f.read()\n",
    "        print(body)"
   ]
  }
 ],
 "metadata": {
  "kernelspec": {
   "display_name": "binenv",
   "language": "python",
   "name": "python3"
  },
  "language_info": {
   "codemirror_mode": {
    "name": "ipython",
    "version": 3
   },
   "file_extension": ".py",
   "mimetype": "text/x-python",
   "name": "python",
   "nbconvert_exporter": "python",
   "pygments_lexer": "ipython3",
   "version": "3.13.4"
  }
 },
 "nbformat": 4,
 "nbformat_minor": 5
}
