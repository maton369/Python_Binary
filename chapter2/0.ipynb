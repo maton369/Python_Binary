{
 "cells": [
  {
   "cell_type": "code",
   "execution_count": null,
   "id": "148d623d",
   "metadata": {
    "vscode": {
     "languageId": "plaintext"
    }
   },
   "outputs": [],
   "source": [
    "!which ls"
   ]
  }
 ],
 "metadata": {
  "language_info": {
   "name": "python"
  }
 },
 "nbformat": 4,
 "nbformat_minor": 5
}
