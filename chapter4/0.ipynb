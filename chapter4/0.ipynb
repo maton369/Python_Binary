{
 "cells": [
  {
   "cell_type": "code",
   "execution_count": 3,
   "id": "c15b2a74",
   "metadata": {},
   "outputs": [],
   "source": [
    "filepath = \"example.zip\""
   ]
  },
  {
   "cell_type": "code",
   "execution_count": 1,
   "id": "92ea19f2",
   "metadata": {},
   "outputs": [],
   "source": [
    "import zipfile"
   ]
  },
  {
   "cell_type": "code",
   "execution_count": 4,
   "id": "9d5418bf",
   "metadata": {},
   "outputs": [
    {
     "name": "stdout",
     "output_type": "stream",
     "text": [
      "example/\n",
      "example/dir/\n",
      "example/dir/file2\n",
      "example/file1\n"
     ]
    }
   ],
   "source": [
    "with zipfile.ZipFile(filepath, \"r\") as myzip:\n",
    "    for info in myzip.infolist():\n",
    "        print(info.filename)"
   ]
  },
  {
   "cell_type": "code",
   "execution_count": 5,
   "id": "6d691845",
   "metadata": {},
   "outputs": [
    {
     "name": "stdout",
     "output_type": "stream",
     "text": [
      "b'file1\\n'\n"
     ]
    }
   ],
   "source": [
    "with zipfile.ZipFile(filepath, \"r\") as myzip:\n",
    "    with myzip.open(\"example/file1\") as myfile:\n",
    "        print(myfile.read())"
   ]
  },
  {
   "cell_type": "code",
   "execution_count": 6,
   "id": "0e6b1ba4",
   "metadata": {},
   "outputs": [],
   "source": [
    "def dump(body):\n",
    "    print(\"         0  1  2  3  4  5  6  7  8  9  A  B  C  D  E  F\")\n",
    "    ascii = \"\"\n",
    "    i = 0\n",
    "    l = 0\n",
    "    print(f\"{l:08X}:\", end=\"\")\n",
    "    for byte in body:\n",
    "        print(f\"{byte:02X} \", end=\"\")\n",
    "        if byte >= 0x20 and byte <= 0x7E:\n",
    "            ascii += chr(byte)\n",
    "        else:\n",
    "            ascii += \".\"\n",
    "        i += 1\n",
    "        if i == 16:\n",
    "            print(\" \", ascii)\n",
    "            ascii = \"\"\n",
    "            i = 0\n",
    "            l += 16\n",
    "            print(f\"{l:08X}:\", end=\"\")\n",
    "    if i != 0:\n",
    "        print(\"   \" * (16 - i), end=\"\")\n",
    "        print(\" \", ascii)\n",
    "\n",
    "\n",
    "def dump2(filepath):\n",
    "    with open(filepath, \"rb\") as f:\n",
    "        body = f.read()\n",
    "        dump(body)"
   ]
  },
  {
   "cell_type": "code",
   "execution_count": 7,
   "id": "101f682f",
   "metadata": {},
   "outputs": [
    {
     "name": "stdout",
     "output_type": "stream",
     "text": [
      "         0  1  2  3  4  5  6  7  8  9  A  B  C  D  E  F\n",
      "00000000:50 4B 03 04 00 00 00 08 00 00 EE 5E AE 5A 00 00   PK.........^.Z..\n",
      "00000010:00 00 00 00 00 00 00 00 00 00 08 00 00 00 65 78   ..............ex\n",
      "00000020:61 6D 70 6C 65 2F 50 4B 03 04 00 00 00 08 00 00   ample/PK........\n",
      "00000030:EE 5E AE 5A 00 00 00 00 00 00 00 00 00 00 00 00   .^.Z............\n",
      "00000040:0C 00 00 00 65 78 61 6D 70 6C 65 2F 64 69 72 2F   ....example/dir/\n",
      "00000050:50 4B 03 04 14 00 08 08 08 00 EE 5E AE 5A 00 00   PK.........^.Z..\n",
      "00000060:00 00 00 00 00 00 00 00 00 00 11 00 00 00 65 78   ..............ex\n",
      "00000070:61 6D 70 6C 65 2F 64 69 72 2F 66 69 6C 65 32 01   ample/dir/file2.\n",
      "00000080:06 00 F9 FF 66 69 6C 65 32 0A 50 4B 07 08 C7 A4   ....file2.PK....\n",
      "00000090:04 C9 0B 00 00 00 06 00 00 00 50 4B 03 04 14 00   ..........PK....\n",
      "000000A0:08 08 08 00 EE 5E AE 5A 00 00 00 00 00 00 00 00   .....^.Z........\n",
      "000000B0:00 00 00 00 0D 00 00 00 65 78 61 6D 70 6C 65 2F   ........example/\n",
      "000000C0:66 69 6C 65 31 01 06 00 F9 FF 66 69 6C 65 31 0A   file1.....file1.\n",
      "000000D0:50 4B 07 08 04 F7 29 E2 0B 00 00 00 06 00 00 00   PK....).........\n",
      "000000E0:50 4B 01 02 17 03 00 00 00 08 00 00 EE 5E AE 5A   PK...........^.Z\n",
      "000000F0:00 00 00 00 00 00 00 00 00 00 00 00 08 00 00 00   ................\n",
      "00000100:00 00 00 00 00 00 10 00 ED 41 00 00 00 00 65 78   .........A....ex\n",
      "00000110:61 6D 70 6C 65 2F 50 4B 01 02 17 03 00 00 00 08   ample/PK........\n",
      "00000120:00 00 EE 5E AE 5A 00 00 00 00 00 00 00 00 00 00   ...^.Z..........\n",
      "00000130:00 00 0C 00 00 00 00 00 00 00 00 00 10 00 ED 41   ...............A\n",
      "00000140:26 00 00 00 65 78 61 6D 70 6C 65 2F 64 69 72 2F   &...example/dir/\n",
      "00000150:50 4B 01 02 17 03 14 00 08 08 08 00 EE 5E AE 5A   PK...........^.Z\n",
      "00000160:C7 A4 04 C9 0B 00 00 00 06 00 00 00 11 00 00 00   ................\n",
      "00000170:00 00 00 00 00 00 00 00 A4 81 50 00 00 00 65 78   ..........P...ex\n",
      "00000180:61 6D 70 6C 65 2F 64 69 72 2F 66 69 6C 65 32 50   ample/dir/file2P\n",
      "00000190:4B 01 02 17 03 14 00 08 08 08 00 EE 5E AE 5A 04   K...........^.Z.\n",
      "000001A0:F7 29 E2 0B 00 00 00 06 00 00 00 0D 00 00 00 00   .)..............\n",
      "000001B0:00 00 00 00 00 00 00 A4 81 9A 00 00 00 65 78 61   .............exa\n",
      "000001C0:6D 70 6C 65 2F 66 69 6C 65 31 50 4B 05 06 00 00   mple/file1PK....\n",
      "000001D0:00 00 04 00 04 00 EA 00 00 00 E0 00 00 00 00 00   ................\n",
      "000001E0:"
     ]
    }
   ],
   "source": [
    "dump2(filepath)"
   ]
  },
  {
   "cell_type": "code",
   "execution_count": 8,
   "id": "b42e9f6a",
   "metadata": {},
   "outputs": [
    {
     "name": "stdout",
     "output_type": "stream",
     "text": [
      "000001CA\n"
     ]
    }
   ],
   "source": [
    "with open(filepath, \"rb\") as f:\n",
    "    body = f.read()\n",
    "\n",
    "    # Find End of Central Directory\n",
    "    offset_eocd = body.rfind(b\"\\x50\\x4b\\x05\\x06\")\n",
    "    print(f\"{offset_eocd:08X}\")"
   ]
  },
  {
   "cell_type": "code",
   "execution_count": 9,
   "id": "37c3848f",
   "metadata": {},
   "outputs": [
    {
     "name": "stdout",
     "output_type": "stream",
     "text": [
      "(b'PK\\x05\\x06', 0, 0, 4, 4, 234, 224, 0)\n"
     ]
    }
   ],
   "source": [
    "import struct\n",
    "\n",
    "with open(filepath, \"rb\") as f:\n",
    "    body = f.read()\n",
    "\n",
    "    offset_eocd = body.rfind(b\"\\x50\\x4b\\x05\\x06\")\n",
    "    body_eocd = struct.unpack(\"<4s4H2LH\", body[offset_eocd : offset_eocd + 22])\n",
    "    print(body_eocd)"
   ]
  },
  {
   "cell_type": "code",
   "execution_count": 10,
   "id": "df32cfc3",
   "metadata": {},
   "outputs": [
    {
     "name": "stdout",
     "output_type": "stream",
     "text": [
      "000000E0:8,0,0\n",
      "00000116:12,0,0\n",
      "00000150:17,0,0\n",
      "0000018F:13,0,0\n"
     ]
    }
   ],
   "source": [
    "import struct\n",
    "\n",
    "with open(filepath, \"rb\") as f:\n",
    "    body = f.read()\n",
    "\n",
    "    offset_eocd = body.rfind(b\"\\x50\\x4b\\x05\\x06\")\n",
    "    body_eocd = struct.unpack(\"<4s4H2LH\", body[offset_eocd : offset_eocd + 22])\n",
    "\n",
    "    offset = body_eocd[6]\n",
    "    offset_cd = [0 for i in range(body_eocd[4])]\n",
    "    for i in range(body_eocd[4]):\n",
    "        offset_cd[i] = offset\n",
    "        (n, m, k) = struct.unpack(\"<3H\", body[offset + 28 : offset + 34])\n",
    "        print(f\"{offset:08X}:{n},{m},{k}\")\n",
    "        offset += 46 + n + m + k"
   ]
  },
  {
   "cell_type": "code",
   "execution_count": 12,
   "id": "3a4d13b5",
   "metadata": {},
   "outputs": [
    {
     "name": "stdout",
     "output_type": "stream",
     "text": [
      "00000000: example/, 0\n",
      "00000026: example/dir/, 0\n",
      "00000050: example/dir/file2, 8\n",
      "b'file2\\n'\n",
      "0000009A: example/file1, 8\n",
      "b'file1\\n'\n"
     ]
    }
   ],
   "source": [
    "import zlib\n",
    "\n",
    "with open(filepath, \"rb\") as f:\n",
    "    body = f.read()\n",
    "\n",
    "offset_eocd = body.rfind(b\"\\x50\\x4b\\x05\\x06\")\n",
    "body_eocd = struct.unpack(\"<4s4H2LH\", body[offset_eocd : offset_eocd + 22])\n",
    "\n",
    "offset = body_eocd[6]\n",
    "offset_cd = [0 for i in range(body_eocd[4])]\n",
    "offset_lf = [0 for i in range(body_eocd[4])]\n",
    "\n",
    "for i in range(body_eocd[4]):\n",
    "    offset_cd[i] = offset\n",
    "    (n, m, k) = struct.unpack(\"<3H\", body[offset + 28 : offset + 34])\n",
    "    offset_lf[i] = struct.unpack(\"<L\", body[offset + 42 : offset + 46])[0]\n",
    "    header_ld = struct.unpack(\"<4s5H3L2H\", body[offset_lf[i] : offset_lf[i] + 30])\n",
    "    (n2, m2) = header_ld[9:11]\n",
    "    filename = body[offset_lf[i] + 30 : offset_lf[i] + 30 + n2].decode()\n",
    "    print(f\"{offset_lf[i]:08X}: {filename}, {header_ld[3]}\")\n",
    "    if header_ld[3] == 8:\n",
    "        # -15 for the window buffer will make it ignore headers/footers\n",
    "        print(zlib.decompress(body[offset_lf[i] + 30 + n2 + m2 :], -15))\n",
    "    offset += 46 + n + m + k"
   ]
  },
  {
   "cell_type": "code",
   "execution_count": null,
   "id": "73178ef7",
   "metadata": {},
   "outputs": [],
   "source": []
  }
 ],
 "metadata": {
  "kernelspec": {
   "display_name": "binenv",
   "language": "python",
   "name": "python3"
  },
  "language_info": {
   "codemirror_mode": {
    "name": "ipython",
    "version": 3
   },
   "file_extension": ".py",
   "mimetype": "text/x-python",
   "name": "python",
   "nbconvert_exporter": "python",
   "pygments_lexer": "ipython3",
   "version": "3.13.5"
  }
 },
 "nbformat": 4,
 "nbformat_minor": 5
}
