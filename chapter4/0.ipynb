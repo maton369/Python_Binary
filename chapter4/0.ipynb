{
 "cells": [
  {
   "cell_type": "code",
   "execution_count": 3,
   "id": "c15b2a74",
   "metadata": {},
   "outputs": [],
   "source": [
    "filepath = \"example.zip\""
   ]
  },
  {
   "cell_type": "code",
   "execution_count": 1,
   "id": "92ea19f2",
   "metadata": {},
   "outputs": [],
   "source": [
    "import zipfile"
   ]
  },
  {
   "cell_type": "code",
   "execution_count": 4,
   "id": "9d5418bf",
   "metadata": {},
   "outputs": [
    {
     "name": "stdout",
     "output_type": "stream",
     "text": [
      "example/\n",
      "example/dir/\n",
      "example/dir/file2\n",
      "example/file1\n"
     ]
    }
   ],
   "source": [
    "with zipfile.ZipFile(filepath, \"r\") as myzip:\n",
    "    for info in myzip.infolist():\n",
    "        print(info.filename)"
   ]
  },
  {
   "cell_type": "code",
   "execution_count": 5,
   "id": "6d691845",
   "metadata": {},
   "outputs": [
    {
     "name": "stdout",
     "output_type": "stream",
     "text": [
      "b'file1\\n'\n"
     ]
    }
   ],
   "source": [
    "with zipfile.ZipFile(filepath, \"r\") as myzip:\n",
    "    with myzip.open(\"example/file1\") as myfile:\n",
    "        print(myfile.read())"
   ]
  },
  {
   "cell_type": "code",
   "execution_count": 6,
   "id": "0e6b1ba4",
   "metadata": {},
   "outputs": [],
   "source": [
    "def dump(body):\n",
    "    print(\"         0  1  2  3  4  5  6  7  8  9  A  B  C  D  E  F\")\n",
    "    ascii = \"\"\n",
    "    i = 0\n",
    "    l = 0\n",
    "    print(f\"{l:08X}:\", end=\"\")\n",
    "    for byte in body:\n",
    "        print(f\"{byte:02X} \", end=\"\")\n",
    "        if byte >= 0x20 and byte <= 0x7E:\n",
    "            ascii += chr(byte)\n",
    "        else:\n",
    "            ascii += \".\"\n",
    "        i += 1\n",
    "        if i == 16:\n",
    "            print(\" \", ascii)\n",
    "            ascii = \"\"\n",
    "            i = 0\n",
    "            l += 16\n",
    "            print(f\"{l:08X}:\", end=\"\")\n",
    "    if i != 0:\n",
    "        print(\"   \" * (16 - i), end=\"\")\n",
    "        print(\" \", ascii)\n",
    "\n",
    "\n",
    "def dump2(filepath):\n",
    "    with open(filepath, \"rb\") as f:\n",
    "        body = f.read()\n",
    "        dump(body)"
   ]
  },
  {
   "cell_type": "code",
   "execution_count": 7,
   "id": "101f682f",
   "metadata": {},
   "outputs": [
    {
     "name": "stdout",
     "output_type": "stream",
     "text": [
      "         0  1  2  3  4  5  6  7  8  9  A  B  C  D  E  F\n",
      "00000000:50 4B 03 04 00 00 00 08 00 00 EE 5E AE 5A 00 00   PK.........^.Z..\n",
      "00000010:00 00 00 00 00 00 00 00 00 00 08 00 00 00 65 78   ..............ex\n",
      "00000020:61 6D 70 6C 65 2F 50 4B 03 04 00 00 00 08 00 00   ample/PK........\n",
      "00000030:EE 5E AE 5A 00 00 00 00 00 00 00 00 00 00 00 00   .^.Z............\n",
      "00000040:0C 00 00 00 65 78 61 6D 70 6C 65 2F 64 69 72 2F   ....example/dir/\n",
      "00000050:50 4B 03 04 14 00 08 08 08 00 EE 5E AE 5A 00 00   PK.........^.Z..\n",
      "00000060:00 00 00 00 00 00 00 00 00 00 11 00 00 00 65 78   ..............ex\n",
      "00000070:61 6D 70 6C 65 2F 64 69 72 2F 66 69 6C 65 32 01   ample/dir/file2.\n",
      "00000080:06 00 F9 FF 66 69 6C 65 32 0A 50 4B 07 08 C7 A4   ....file2.PK....\n",
      "00000090:04 C9 0B 00 00 00 06 00 00 00 50 4B 03 04 14 00   ..........PK....\n",
      "000000A0:08 08 08 00 EE 5E AE 5A 00 00 00 00 00 00 00 00   .....^.Z........\n",
      "000000B0:00 00 00 00 0D 00 00 00 65 78 61 6D 70 6C 65 2F   ........example/\n",
      "000000C0:66 69 6C 65 31 01 06 00 F9 FF 66 69 6C 65 31 0A   file1.....file1.\n",
      "000000D0:50 4B 07 08 04 F7 29 E2 0B 00 00 00 06 00 00 00   PK....).........\n",
      "000000E0:50 4B 01 02 17 03 00 00 00 08 00 00 EE 5E AE 5A   PK...........^.Z\n",
      "000000F0:00 00 00 00 00 00 00 00 00 00 00 00 08 00 00 00   ................\n",
      "00000100:00 00 00 00 00 00 10 00 ED 41 00 00 00 00 65 78   .........A....ex\n",
      "00000110:61 6D 70 6C 65 2F 50 4B 01 02 17 03 00 00 00 08   ample/PK........\n",
      "00000120:00 00 EE 5E AE 5A 00 00 00 00 00 00 00 00 00 00   ...^.Z..........\n",
      "00000130:00 00 0C 00 00 00 00 00 00 00 00 00 10 00 ED 41   ...............A\n",
      "00000140:26 00 00 00 65 78 61 6D 70 6C 65 2F 64 69 72 2F   &...example/dir/\n",
      "00000150:50 4B 01 02 17 03 14 00 08 08 08 00 EE 5E AE 5A   PK...........^.Z\n",
      "00000160:C7 A4 04 C9 0B 00 00 00 06 00 00 00 11 00 00 00   ................\n",
      "00000170:00 00 00 00 00 00 00 00 A4 81 50 00 00 00 65 78   ..........P...ex\n",
      "00000180:61 6D 70 6C 65 2F 64 69 72 2F 66 69 6C 65 32 50   ample/dir/file2P\n",
      "00000190:4B 01 02 17 03 14 00 08 08 08 00 EE 5E AE 5A 04   K...........^.Z.\n",
      "000001A0:F7 29 E2 0B 00 00 00 06 00 00 00 0D 00 00 00 00   .)..............\n",
      "000001B0:00 00 00 00 00 00 00 A4 81 9A 00 00 00 65 78 61   .............exa\n",
      "000001C0:6D 70 6C 65 2F 66 69 6C 65 31 50 4B 05 06 00 00   mple/file1PK....\n",
      "000001D0:00 00 04 00 04 00 EA 00 00 00 E0 00 00 00 00 00   ................\n",
      "000001E0:"
     ]
    }
   ],
   "source": [
    "dump2(filepath)"
   ]
  },
  {
   "cell_type": "code",
   "execution_count": 8,
   "id": "b42e9f6a",
   "metadata": {},
   "outputs": [
    {
     "name": "stdout",
     "output_type": "stream",
     "text": [
      "000001CA\n"
     ]
    }
   ],
   "source": [
    "with open(filepath, \"rb\") as f:\n",
    "    body = f.read()\n",
    "\n",
    "    # Find End of Central Directory\n",
    "    offset_eocd = body.rfind(b\"\\x50\\x4b\\x05\\x06\")\n",
    "    print(f\"{offset_eocd:08X}\")"
   ]
  },
  {
   "cell_type": "code",
   "execution_count": 9,
   "id": "37c3848f",
   "metadata": {},
   "outputs": [
    {
     "name": "stdout",
     "output_type": "stream",
     "text": [
      "(b'PK\\x05\\x06', 0, 0, 4, 4, 234, 224, 0)\n"
     ]
    }
   ],
   "source": [
    "import struct\n",
    "\n",
    "with open(filepath, \"rb\") as f:\n",
    "    body = f.read()\n",
    "\n",
    "    offset_eocd = body.rfind(b\"\\x50\\x4b\\x05\\x06\")\n",
    "    body_eocd = struct.unpack(\"<4s4H2LH\", body[offset_eocd : offset_eocd + 22])\n",
    "    print(body_eocd)"
   ]
  },
  {
   "cell_type": "code",
   "execution_count": 10,
   "id": "df32cfc3",
   "metadata": {},
   "outputs": [
    {
     "name": "stdout",
     "output_type": "stream",
     "text": [
      "000000E0:8,0,0\n",
      "00000116:12,0,0\n",
      "00000150:17,0,0\n",
      "0000018F:13,0,0\n"
     ]
    }
   ],
   "source": [
    "import struct\n",
    "\n",
    "with open(filepath, \"rb\") as f:\n",
    "    body = f.read()\n",
    "\n",
    "    offset_eocd = body.rfind(b\"\\x50\\x4b\\x05\\x06\")\n",
    "    body_eocd = struct.unpack(\"<4s4H2LH\", body[offset_eocd : offset_eocd + 22])\n",
    "\n",
    "    offset = body_eocd[6]\n",
    "    offset_cd = [0 for i in range(body_eocd[4])]\n",
    "    for i in range(body_eocd[4]):\n",
    "        offset_cd[i] = offset\n",
    "        (n, m, k) = struct.unpack(\"<3H\", body[offset + 28 : offset + 34])\n",
    "        print(f\"{offset:08X}:{n},{m},{k}\")\n",
    "        offset += 46 + n + m + k"
   ]
  },
  {
   "cell_type": "code",
   "execution_count": 12,
   "id": "3a4d13b5",
   "metadata": {},
   "outputs": [
    {
     "name": "stdout",
     "output_type": "stream",
     "text": [
      "00000000: example/, 0\n",
      "00000026: example/dir/, 0\n",
      "00000050: example/dir/file2, 8\n",
      "b'file2\\n'\n",
      "0000009A: example/file1, 8\n",
      "b'file1\\n'\n"
     ]
    }
   ],
   "source": [
    "import zlib\n",
    "\n",
    "with open(filepath, \"rb\") as f:\n",
    "    body = f.read()\n",
    "\n",
    "offset_eocd = body.rfind(b\"\\x50\\x4b\\x05\\x06\")\n",
    "body_eocd = struct.unpack(\"<4s4H2LH\", body[offset_eocd : offset_eocd + 22])\n",
    "\n",
    "offset = body_eocd[6]\n",
    "offset_cd = [0 for i in range(body_eocd[4])]\n",
    "offset_lf = [0 for i in range(body_eocd[4])]\n",
    "\n",
    "for i in range(body_eocd[4]):\n",
    "    offset_cd[i] = offset\n",
    "    (n, m, k) = struct.unpack(\"<3H\", body[offset + 28 : offset + 34])\n",
    "    offset_lf[i] = struct.unpack(\"<L\", body[offset + 42 : offset + 46])[0]\n",
    "    header_ld = struct.unpack(\"<4s5H3L2H\", body[offset_lf[i] : offset_lf[i] + 30])\n",
    "    (n2, m2) = header_ld[9:11]\n",
    "    filename = body[offset_lf[i] + 30 : offset_lf[i] + 30 + n2].decode()\n",
    "    print(f\"{offset_lf[i]:08X}: {filename}, {header_ld[3]}\")\n",
    "    if header_ld[3] == 8:\n",
    "        # -15 for the window buffer will make it ignore headers/footers\n",
    "        print(zlib.decompress(body[offset_lf[i] + 30 + n2 + m2 :], -15))\n",
    "    offset += 46 + n + m + k"
   ]
  },
  {
   "cell_type": "code",
   "execution_count": 13,
   "id": "73178ef7",
   "metadata": {},
   "outputs": [],
   "source": [
    "def zip_recovery(body):\n",
    "    offset_lf = 0\n",
    "    while True:\n",
    "        offset_lf = body.find(b\"\\x50\\x4b\\03\\04\", offset_lf)\n",
    "        if offset_lf == -1:\n",
    "            break\n",
    "        header_lf = struct.unpack(\"<4s5H3L2H\", body[offset_lf : offset_lf + 30])\n",
    "        (n, m) = header_lf[9:11]\n",
    "        filename = body[offset_lf + 30 : offset_lf + 30 + n].decode()\n",
    "        print(f\"{offset_lf:08X}:{filename},{header_lf[3]}\")\n",
    "        if header_lf[3] == 8:\n",
    "            # -15 for the window buffer will make it ignore headers/footers\n",
    "            print(zlib.decompress(body[offset_lf + 30 + n + m :], -15))\n",
    "        offset_lf += 30 + n + m"
   ]
  },
  {
   "cell_type": "code",
   "execution_count": 14,
   "id": "0c52b045",
   "metadata": {},
   "outputs": [
    {
     "name": "stdout",
     "output_type": "stream",
     "text": [
      "00000000:example/,0\n",
      "00000026:example/dir/,0\n",
      "00000050:example/dir/file2,8\n",
      "b'file2\\n'\n",
      "0000009A:example/file1,8\n",
      "b'file1\\n'\n"
     ]
    }
   ],
   "source": [
    "zip_recovery(body[:0x100])"
   ]
  },
  {
   "cell_type": "code",
   "execution_count": 15,
   "id": "1878f214",
   "metadata": {},
   "outputs": [
    {
     "name": "stdout",
     "output_type": "stream",
     "text": [
      "0000001E:example/dir/file2,8\n",
      "b'file2\\n'\n",
      "00000068:example/file1,8\n",
      "b'file1\\n'\n"
     ]
    }
   ],
   "source": [
    "zip_recovery(body[50:0x100])"
   ]
  },
  {
   "cell_type": "code",
   "execution_count": 16,
   "id": "07c68499",
   "metadata": {},
   "outputs": [],
   "source": [
    "filepath=\"test_file.pdf\""
   ]
  },
  {
   "cell_type": "code",
   "execution_count": 17,
   "id": "2dfd0dec",
   "metadata": {},
   "outputs": [
    {
     "name": "stdout",
     "output_type": "stream",
     "text": [
      "Collecting pypdf\n",
      "  Downloading pypdf-5.6.1-py3-none-any.whl.metadata (7.2 kB)\n",
      "Downloading pypdf-5.6.1-py3-none-any.whl (304 kB)\n",
      "Installing collected packages: pypdf\n",
      "Successfully installed pypdf-5.6.1\n"
     ]
    }
   ],
   "source": [
    "!pip install pypdf"
   ]
  },
  {
   "cell_type": "code",
   "execution_count": 18,
   "id": "532cb846",
   "metadata": {},
   "outputs": [
    {
     "name": "stdout",
     "output_type": "stream",
     "text": [
      "{'/Producer': 'GPL Ghostscript 9.07', '/CreationDate': \"D:20141210171630-05'00'\", '/ModDate': \"D:20141210171630-05'00'\", '/Creator': 'LilyPond 2.18.2', '/Author': 'Christopher Antila', '/Title': 'Test File', '/Subtitle': 'Movement title', '/Composer': 'Christopher Antila'}\n",
      "Total 1 pages.\n",
      " \n",
      "Test File\n",
      "Movement title\n",
      "Christopher Antila\n",
      "/noteheads.sM1 /noteheads.s0/accidentals.doublesharp/accidentals.flat\n",
      "/scripts.umarcato/noteheads.sM1/accidentals.natural\n",
      "/noteheads.s2\n",
      "/noteheads.s2/noteheads.s2/accidentals.flatflat\n",
      "/flags.d3\n",
      "/rests.2\n",
      "/noteheads.s2/noteheads.uM2/accidentals.sharp/noteheads.uM2/accidentals.natural\n",
      "43/accidentals.flat/accidentals.flat/clefs.C_change\n",
      "43/accidentals.flat/accidentals.flat\n",
      "3\n",
      "/rests.2\n",
      "/noteheads.s2/noteheads.s2/noteheads.s2/accidentals.sharp/noteheads.s2/noteheads.s2/noteheads.s2/noteheads.s2\n",
      "/flags.u3\n",
      "/rests.3\n",
      "/noteheads.s2\n",
      "/scripts.staccato\n",
      "/noteheads.s2\n",
      "/clefs.F/noteheads.s2\n",
      "88/accidentals.flat/clefs.G\n",
      "/scripts.staccato\n",
      "/noteheads.s2\n",
      "/accidentals.flat\n",
      "/brackettips.up\n",
      "/brackettips.down\n",
      "/dots.dot88\n",
      "/accidentals.flat\n",
      "/flags.ugrace /flags.u3\n",
      "/noteheads.s2/noteheads.s1\n",
      "/noteheads.s2\n",
      "/noteheads.s2\n",
      "/dots.dot\n",
      "/noteheads.s2\n",
      "/noteheads.s1 /accidentals.flat/noteheads.s1\n",
      "/rests.2\n",
      "/dots.dot\n",
      "/dots.dot\n",
      "/dots.dot\n",
      "/dots.dot\n",
      "/noteheads.s2/noteheads.s2\n",
      "/rests.3\n",
      "/noteheads.s2/noteheads.s2/noteheads.s2 /noteheads.s2/clefs.G_change\n",
      "/clefs.F_change\n",
      "3\n",
      "3\n",
      "/accidentals.natural/noteheads.s2/noteheads.s2/noteheads.s2/noteheads.s2/noteheads.s2\n",
      "/noteheads.s2\n",
      "/noteheads.s2/noteheads.s2\n",
      "/clefs.C\n",
      "/brackettips.up\n",
      "/brackettips.down\n",
      "/rests.0\n",
      "/accidentals.flat/accidentals.flat43\n",
      "/accidentals.flat/accidentals.flat\n",
      "43\n",
      "3\n",
      "/clefs.G\n",
      "/noteheads.s2\n",
      "/noteheads.s2/noteheads.s2/noteheads.s2\n",
      "/flags.u3\n",
      "/noteheads.s2/noteheads.s2/noteheads.s2\n",
      "/rests.2\n",
      "/dots.dot\n",
      "/dots.dot\n",
      "/dots.dot\n",
      "/dots.dot\n",
      "/noteheads.s2/noteheads.s1\n",
      "/noteheads.s2/clefs.G_change\n",
      "/noteheads.s2\n",
      "/accidentals.flatflat\n",
      "/rests.2\n",
      "/noteheads.s1\n",
      "/rests.4\n",
      "/noteheads.s1/noteheads.s1\n",
      "86\n",
      "86\n",
      "/accidentals.natural/accidentals.natural\n",
      "5\n",
      "7\n",
      "5\n",
      "/accidentals.sharp\n",
      "/flags.d3\n",
      "/noteheads.s2/noteheads.s2\n",
      "/rests.4\n",
      "/brackettips.up\n",
      "/brackettips.down\n",
      "/rests.0\n",
      "/rests.0\n",
      "/clefs.G\n",
      "/clefs.F\n",
      "5 /noteheads.s2/accidentals.flat/accidentals.flat\n",
      "/accidentals.flat/accidentals.flat\n",
      "/noteheads.s2\n",
      "/noteheads.s2\n",
      "/clefs.C_change\n",
      "/rests.5/rests.5\n",
      "/noteheads.s2/noteheads.s1/noteheads.s1\n",
      "/noteheads.s2/noteheads.s2/noteheads.s2\n",
      "3\n",
      "/rests.0\n",
      "3\n",
      "/rests.0\n",
      "/noteheads.s2/noteheads.s2/noteheads.s1/accidentals.flat/noteheads.s2/noteheads.s2\n",
      "86/brackettips.up\n",
      "/brackettips.down\n",
      "/rests.0 /rests.0\n",
      "/accidentals.sharp/noteheads.s2\n",
      "86\n",
      "7\n",
      "/clefs.G\n",
      "/clefs.F/accidentals.flat/accidentals.flat\n",
      "/noteheads.s1\n",
      "/accidentals.sharp/accidentals.natural/accidentals.natural\n",
      "/dots.dot\n",
      "/accidentals.flat/noteheads.s2/noteheads.s2\n",
      "Music engraving by LilyPond 2.18.2—www.lilypond.org\n"
     ]
    }
   ],
   "source": [
    "from pypdf import PdfReader\n",
    "\n",
    "reader = PdfReader(filepath)\n",
    "\n",
    "metadata = reader.metadata\n",
    "print(metadata)\n",
    "\n",
    "n_of_pages = len(reader.pages)\n",
    "print(f\"Total {n_of_pages} pages.\")\n",
    "\n",
    "page = reader.pages[0]\n",
    "text = page.extract_text()\n",
    "print(text)"
   ]
  },
  {
   "cell_type": "code",
   "execution_count": 19,
   "id": "f1f601e0",
   "metadata": {},
   "outputs": [
    {
     "name": "stdout",
     "output_type": "stream",
     "text": [
      "Collecting pdfminer.six\n",
      "  Downloading pdfminer_six-20250506-py3-none-any.whl.metadata (4.2 kB)\n",
      "Collecting charset-normalizer>=2.0.0 (from pdfminer.six)\n",
      "  Using cached charset_normalizer-3.4.2-cp313-cp313-macosx_10_13_universal2.whl.metadata (35 kB)\n",
      "Collecting cryptography>=36.0.0 (from pdfminer.six)\n",
      "  Using cached cryptography-45.0.4-cp311-abi3-macosx_10_9_universal2.whl.metadata (5.7 kB)\n",
      "Collecting cffi>=1.14 (from cryptography>=36.0.0->pdfminer.six)\n",
      "  Using cached cffi-1.17.1-cp313-cp313-macosx_11_0_arm64.whl.metadata (1.5 kB)\n",
      "Collecting pycparser (from cffi>=1.14->cryptography>=36.0.0->pdfminer.six)\n",
      "  Using cached pycparser-2.22-py3-none-any.whl.metadata (943 bytes)\n",
      "Downloading pdfminer_six-20250506-py3-none-any.whl (5.6 MB)\n",
      "\u001b[2K   \u001b[90m━━━━━━━━━━━━━━━━━━━━━━━━━━━━━━━━━━━━━━━━\u001b[0m \u001b[32m5.6/5.6 MB\u001b[0m \u001b[31m315.8 kB/s\u001b[0m eta \u001b[36m0:00:00\u001b[0m00:01\u001b[0m00:02\u001b[0m\n",
      "\u001b[?25hUsing cached charset_normalizer-3.4.2-cp313-cp313-macosx_10_13_universal2.whl (199 kB)\n",
      "Downloading cryptography-45.0.4-cp311-abi3-macosx_10_9_universal2.whl (7.1 MB)\n",
      "\u001b[2K   \u001b[90m━━━━━━━━━━━━━━━━━━━━━━━━━━━━━━━━━━━━━━━━\u001b[0m \u001b[32m7.1/7.1 MB\u001b[0m \u001b[31m233.2 kB/s\u001b[0m eta \u001b[36m0:00:00\u001b[0ma \u001b[36m0:00:02\u001b[0m\n",
      "\u001b[?25hDownloading cffi-1.17.1-cp313-cp313-macosx_11_0_arm64.whl (178 kB)\n",
      "Downloading pycparser-2.22-py3-none-any.whl (117 kB)\n",
      "Installing collected packages: pycparser, charset-normalizer, cffi, cryptography, pdfminer.six\n",
      "\u001b[2K   \u001b[90m━━━━━━━━━━━━━━━━━━━━━━━━━━━━━━━━━━━━━━━━\u001b[0m \u001b[32m5/5\u001b[0m [pdfminer.six][0m [pdfminer.six]\n",
      "\u001b[1A\u001b[2KSuccessfully installed cffi-1.17.1 charset-normalizer-3.4.2 cryptography-45.0.4 pdfminer.six-20250506 pycparser-2.22\n"
     ]
    }
   ],
   "source": [
    "!pip install pdfminer.six"
   ]
  },
  {
   "cell_type": "code",
   "execution_count": 20,
   "id": "35b95bdf",
   "metadata": {},
   "outputs": [
    {
     "name": "stdout",
     "output_type": "stream",
     "text": [
      "[{'Producer': b'GPL Ghostscript 9.07', 'CreationDate': b\"D:20141210171630-05'00'\", 'ModDate': b\"D:20141210171630-05'00'\", 'Creator': b'LilyPond 2.18.2', 'Author': b'Christopher Antila', 'Title': b'Test File', 'Subtitle': b'Movement title', 'Composer': b'Christopher Antila'}]\n"
     ]
    }
   ],
   "source": [
    "import pdfminer.pdfparser\n",
    "import pdfminer.pdfdocument\n",
    "\n",
    "with open(filepath, \"rb\") as f:\n",
    "    p = pdfminer.pdfparser.PDFParser(f)\n",
    "    d = pdfminer.pdfdocument.PDFDocument(p)\n",
    "    print(d.info)"
   ]
  },
  {
   "cell_type": "code",
   "execution_count": null,
   "id": "27bc4a6c",
   "metadata": {},
   "outputs": [],
   "source": []
  }
 ],
 "metadata": {
  "kernelspec": {
   "display_name": "binenv",
   "language": "python",
   "name": "python3"
  },
  "language_info": {
   "codemirror_mode": {
    "name": "ipython",
    "version": 3
   },
   "file_extension": ".py",
   "mimetype": "text/x-python",
   "name": "python",
   "nbconvert_exporter": "python",
   "pygments_lexer": "ipython3",
   "version": "3.13.5"
  }
 },
 "nbformat": 4,
 "nbformat_minor": 5
}
