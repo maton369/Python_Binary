{
 "cells": [
  {
   "cell_type": "code",
   "execution_count": 3,
   "id": "c15b2a74",
   "metadata": {},
   "outputs": [],
   "source": [
    "filepath = \"example.zip\""
   ]
  },
  {
   "cell_type": "code",
   "execution_count": 1,
   "id": "92ea19f2",
   "metadata": {},
   "outputs": [],
   "source": [
    "import zipfile"
   ]
  },
  {
   "cell_type": "code",
   "execution_count": 4,
   "id": "9d5418bf",
   "metadata": {},
   "outputs": [
    {
     "name": "stdout",
     "output_type": "stream",
     "text": [
      "example/\n",
      "example/dir/\n",
      "example/dir/file2\n",
      "example/file1\n"
     ]
    }
   ],
   "source": [
    "with zipfile.ZipFile(filepath, \"r\") as myzip:\n",
    "    for info in myzip.infolist():\n",
    "        print(info.filename)"
   ]
  },
  {
   "cell_type": "code",
   "execution_count": null,
   "id": "6d691845",
   "metadata": {},
   "outputs": [],
   "source": []
  }
 ],
 "metadata": {
  "kernelspec": {
   "display_name": "binenv",
   "language": "python",
   "name": "python3"
  },
  "language_info": {
   "codemirror_mode": {
    "name": "ipython",
    "version": 3
   },
   "file_extension": ".py",
   "mimetype": "text/x-python",
   "name": "python",
   "nbconvert_exporter": "python",
   "pygments_lexer": "ipython3",
   "version": "3.13.5"
  }
 },
 "nbformat": 4,
 "nbformat_minor": 5
}
