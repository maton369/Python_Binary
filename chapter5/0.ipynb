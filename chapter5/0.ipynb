{
 "cells": [
  {
   "cell_type": "code",
   "execution_count": 1,
   "id": "dd7f252f",
   "metadata": {},
   "outputs": [
    {
     "name": "stdout",
     "output_type": "stream",
     "text": [
      "Collecting binary-refinery\n",
      "  Downloading binary_refinery-0.8.24.tar.gz (695 kB)\n",
      "\u001b[2K     \u001b[90m━━━━━━━━━━━━━━━━━━━━━━━━━━━━━━━━━━━━━\u001b[0m \u001b[32m695.6/695.6 kB\u001b[0m \u001b[31m104.7 kB/s\u001b[0m eta \u001b[36m0:00:00\u001b[0ma \u001b[36m0:00:02\u001b[0m\n",
      "\u001b[?25h  Installing build dependencies ... \u001b[?25ldone\n",
      "\u001b[?25h  Getting requirements to build wheel ... \u001b[?25ldone\n",
      "\u001b[?25h  Preparing metadata (pyproject.toml) ... \u001b[?25ldone\n",
      "\u001b[?25hCollecting colorama (from binary-refinery)\n",
      "  Using cached colorama-0.4.6-py2.py3-none-any.whl.metadata (17 kB)\n",
      "Collecting defusedxml (from binary-refinery)\n",
      "  Using cached defusedxml-0.7.1-py2.py3-none-any.whl.metadata (32 kB)\n",
      "Collecting lief>=0.16.0 (from binary-refinery)\n",
      "  Using cached lief-0.16.6-cp313-cp313-macosx_11_0_arm64.whl.metadata (2.4 kB)\n",
      "Collecting msgpack>=1.0.0 (from binary-refinery)\n",
      "  Using cached msgpack-1.1.1-cp313-cp313-macosx_11_0_arm64.whl.metadata (8.4 kB)\n",
      "Collecting pycryptodomex (from binary-refinery)\n",
      "  Using cached pycryptodomex-3.23.0-cp37-abi3-macosx_10_9_universal2.whl.metadata (3.4 kB)\n",
      "Collecting setuptools (from binary-refinery)\n",
      "  Using cached setuptools-80.9.0-py3-none-any.whl.metadata (6.6 kB)\n",
      "Collecting toml (from binary-refinery)\n",
      "  Using cached toml-0.10.2-py2.py3-none-any.whl.metadata (7.1 kB)\n",
      "Collecting wheel (from binary-refinery)\n",
      "  Using cached wheel-0.45.1-py3-none-any.whl.metadata (2.3 kB)\n",
      "Requirement already satisfied: python-magic in /Users/maton/Python_Binary/binenv/lib/python3.13/site-packages (from binary-refinery) (0.4.27)\n",
      "Collecting capstone (from binary-refinery)\n",
      "  Using cached capstone-5.0.6-py3-none-macosx_11_0_arm64.whl.metadata (3.3 kB)\n",
      "Collecting pyperclip (from binary-refinery)\n",
      "  Downloading pyperclip-1.9.0.tar.gz (20 kB)\n",
      "  Installing build dependencies ... \u001b[?25ldone\n",
      "\u001b[?25h  Getting requirements to build wheel ... \u001b[?25ldone\n",
      "\u001b[?25h  Preparing metadata (pyproject.toml) ... \u001b[?25ldone\n",
      "\u001b[?25hUsing cached lief-0.16.6-cp313-cp313-macosx_11_0_arm64.whl (2.6 MB)\n",
      "Using cached msgpack-1.1.1-cp313-cp313-macosx_11_0_arm64.whl (78 kB)\n",
      "Downloading capstone-5.0.6-py3-none-macosx_11_0_arm64.whl (1.2 MB)\n",
      "\u001b[2K   \u001b[90m━━━━━━━━━━━━━━━━━━━━━━━━━━━━━━━━━━━━━━━━\u001b[0m \u001b[32m1.2/1.2 MB\u001b[0m \u001b[31m194.6 kB/s\u001b[0m eta \u001b[36m0:00:00\u001b[0ma \u001b[36m0:00:01\u001b[0m\n",
      "\u001b[?25hUsing cached colorama-0.4.6-py2.py3-none-any.whl (25 kB)\n",
      "Using cached defusedxml-0.7.1-py2.py3-none-any.whl (25 kB)\n",
      "Using cached pycryptodomex-3.23.0-cp37-abi3-macosx_10_9_universal2.whl (2.5 MB)\n",
      "Using cached setuptools-80.9.0-py3-none-any.whl (1.2 MB)\n",
      "Using cached toml-0.10.2-py2.py3-none-any.whl (16 kB)\n",
      "Using cached wheel-0.45.1-py3-none-any.whl (72 kB)\n",
      "Building wheels for collected packages: binary-refinery, pyperclip\n",
      "  Building wheel for binary-refinery (pyproject.toml) ... \u001b[?25ldone\n",
      "\u001b[?25h  Created wheel for binary-refinery: filename=binary_refinery-0.8.24-py3-none-any.whl size=860232 sha256=4a42ca77f7b1091f83fbb87470fbc50370bc01d1ddf1e8cbf6380a712c40c44b\n",
      "  Stored in directory: /Users/maton/Library/Caches/pip/wheels/a5/87/15/1a4940dd9c0daeb40b07eb07e6e6c0ba394594aa4fe3b2a327\n",
      "  Building wheel for pyperclip (pyproject.toml) ... \u001b[?25ldone\n",
      "\u001b[?25h  Created wheel for pyperclip: filename=pyperclip-1.9.0-py3-none-any.whl size=11103 sha256=d439d17d2612b9c91ad52d8cab155f0b1f51d5f33a950707fa72c368f4987f60\n",
      "  Stored in directory: /Users/maton/Library/Caches/pip/wheels/9c/79/90/c9e831caaffa2633ad99f1d35c6ea39866b92de62e909e89ef\n",
      "Successfully built binary-refinery pyperclip\n",
      "Installing collected packages: pyperclip, wheel, toml, setuptools, pycryptodomex, msgpack, lief, defusedxml, colorama, capstone, binary-refinery\n",
      "\u001b[2K   \u001b[90m━━━━━━━━━━━━━━━━━━━━━━━━━━━━━━━━━━━━━━━━\u001b[0m \u001b[32m11/11\u001b[0m [binary-refinery] [binary-refinery]\n",
      "\u001b[1A\u001b[2KSuccessfully installed binary-refinery-0.8.24 capstone-5.0.6 colorama-0.4.6 defusedxml-0.7.1 lief-0.16.6 msgpack-1.1.1 pycryptodomex-3.23.0 pyperclip-1.9.0 setuptools-80.9.0 toml-0.10.2 wheel-0.45.1\n"
     ]
    }
   ],
   "source": [
    "!pip install binary-refinery"
   ]
  },
  {
   "cell_type": "code",
   "execution_count": 4,
   "id": "a50742e3",
   "metadata": {},
   "outputs": [
    {
     "name": "stdout",
     "output_type": "stream",
     "text": [
      "0123\n"
     ]
    }
   ],
   "source": [
    "!echo 0123 > 0123.txt\n",
    "!ef 0123.txt"
   ]
  },
  {
   "cell_type": "code",
   "execution_count": 6,
   "id": "cb1eb397",
   "metadata": {},
   "outputs": [
    {
     "name": "stdout",
     "output_type": "stream",
     "text": [
      "Pythonで\n"
     ]
    }
   ],
   "source": [
    "!emit h:507974686F6EE381A7"
   ]
  },
  {
   "cell_type": "code",
   "execution_count": 7,
   "id": "d1d3ad73",
   "metadata": {},
   "outputs": [
    {
     "name": "stdout",
     "output_type": "stream",
     "text": [
      "------------------------------------------------------------------------\n",
      "00.155 MB; 39.26% entropy; Mach-O universal binary with 2 architectur...\n",
      "  index = 0\n",
      "------------------------------------------------------------------------\n",
      "\u001b[39m00000: \u001b[91mCA FE BA BE \u001b[90m00 00 00 \u001b[91m02 01 \u001b[90m00 00 \u001b[91m07 \u001b[90m00 00 00 \u001b[91m03\u001b[39m  \u001b[91m....\u001b[90m...\u001b[91m..\u001b[90m..\u001b[91m.\u001b[90m...\u001b[91m.\u001b[39m\n",
      "\u001b[39m00010: \u001b[90m00 00 \u001b[39m40 \u001b[90m00 00 00 \u001b[91mBB F0 \u001b[90m00 00 00 \u001b[91m0E 01 \u001b[90m00 00 \u001b[91m0C\u001b[39m  \u001b[90m..\u001b[39m@\u001b[90m...\u001b[91m..\u001b[90m...\u001b[91m..\u001b[90m..\u001b[91m.\u001b[39m\n",
      "\u001b[39m00020: \u001b[91m80 \u001b[90m00 00 \u001b[91m02 \u001b[90m00 \u001b[91m01 \u001b[90m00 00 00 \u001b[91m01 \u001b[39m5C \u001b[90m00 00 00 00 \u001b[91m0E\u001b[39m  \u001b[91m.\u001b[90m..\u001b[91m.\u001b[90m.\u001b[91m.\u001b[90m...\u001b[91m.\u001b[39m\\\u001b[90m....\u001b[91m.\u001b[39m\n",
      "\u001b[39m00030: \u001b[90m00 00 00 00 00 00 00 00 00 00 00 00 00 00 00 00\u001b[39m  \u001b[90m................\u001b[39m\n",
      ".....: \u001b[90m                1020 repetitions\u001b[39m\n",
      "\u001b[39m04000: \u001b[91mCF FA ED FE 07 \u001b[90m00 00 \u001b[91m01 03 \u001b[90m00 00 00 \u001b[91m02 \u001b[90m00 00 00\u001b[39m  \u001b[91m.....\u001b[90m..\u001b[91m..\u001b[90m...\u001b[91m.\u001b[90m...\u001b[39m\n",
      "\u001b[39m04010: \u001b[91m12 \u001b[90m00 00 00 \u001b[91mC8 06 \u001b[90m00 00 \u001b[91m85 \u001b[90m00 \u001b[36m20 \u001b[90m00 00 00 00 00\u001b[39m  \u001b[91m.\u001b[90m...\u001b[91m..\u001b[90m..\u001b[91m.\u001b[90m.\u001b[36m.\u001b[90m.....\u001b[39m\n",
      "\u001b[39m04020: \u001b[91m19 \u001b[90m00 00 00 \u001b[39m48 \u001b[90m00 00 00 \u001b[39m5F 5F 50 41 47 45 5A 45\u001b[39m  \u001b[91m.\u001b[90m...\u001b[39mH\u001b[90m...\u001b[39m__PAGEZE\u001b[39m\n",
      "\u001b[39m04030: 52 4F \u001b[90m00 00 00 00 00 00 00 00 00 00 00 00 00 00\u001b[39m  RO\u001b[90m..............\u001b[39m\n",
      "\u001b[39m04040: \u001b[90m00 00 00 00 \u001b[91m01 \u001b[90m00 00 00 00 00 00 00 00 00 00 00\u001b[39m  \u001b[90m....\u001b[91m.\u001b[90m...........\u001b[39m\n",
      "------------------------------------------------------------------------\n"
     ]
    }
   ],
   "source": [
    "!ef /bin/ls | peek -W 16"
   ]
  },
  {
   "cell_type": "code",
   "execution_count": 8,
   "id": "22b8136e",
   "metadata": {},
   "outputs": [
    {
     "name": "stdout",
     "output_type": "stream",
     "text": [
      "--------------------------------------------------------------------\n",
      "\u001b[39m0: 44 55 66 77 \u001b[91m88 99 AA BB\u001b[39m                          DUfw\u001b[91m....\u001b[39m\n",
      "--------------------------------------------------------------------\n"
     ]
    }
   ],
   "source": [
    "!emit h:00112233445566778899aabbccddeeff | snip 4:12 | peek -W 16 -r"
   ]
  },
  {
   "cell_type": "code",
   "execution_count": 9,
   "id": "769c1c1a",
   "metadata": {},
   "outputs": [
    {
     "name": "stdout",
     "output_type": "stream",
     "text": [
      "--------------------------------------------------------------------\n",
      "\u001b[39m0: \u001b[90m00 \u001b[91m11 \u001b[39m22 33 44 55 66 77\u001b[39m                          \u001b[90m.\u001b[91m.\u001b[39m\"3DUfw\u001b[39m\n",
      "--------------------------------------------------------------------\n",
      "\u001b[39m0: \u001b[91m88 99 AA BB CC DD EE FF\u001b[39m                          \u001b[91m........\u001b[39m\n",
      "--------------------------------------------------------------------\n"
     ]
    }
   ],
   "source": [
    "!emit h:00112233445566778899aabbccddeeff | chop 8 [| peek -W 16  -r ]"
   ]
  },
  {
   "cell_type": "code",
   "execution_count": 10,
   "id": "af55ac42",
   "metadata": {},
   "outputs": [
    {
     "name": "stdout",
     "output_type": "stream",
     "text": [
      "Binary Refinery\n"
     ]
    }
   ],
   "source": [
    "!emit 42696E61727920526566696E657279 | hex"
   ]
  },
  {
   "cell_type": "code",
   "execution_count": 11,
   "id": "3911c4b2",
   "metadata": {},
   "outputs": [
    {
     "name": "stdout",
     "output_type": "stream",
     "text": [
      "Binary Refinery\n"
     ]
    }
   ],
   "source": [
    "!emit 66,105,110,97,114,121,32,82,101,102,105,110,101,114,121 | pack"
   ]
  },
  {
   "cell_type": "code",
   "execution_count": 12,
   "id": "f2c4cd02",
   "metadata": {},
   "outputs": [
    {
     "name": "stdout",
     "output_type": "stream",
     "text": [
      "--------------------------------------------------------------------\n",
      "\u001b[39m0: \u001b[91m08 19 \u001b[39m2A 3B 4C 5D 6E \u001b[91m7F\u001b[39m                          \u001b[91m..\u001b[39m*;L]n\u001b[91m.\u001b[39m\n",
      "--------------------------------------------------------------------\n"
     ]
    }
   ],
   "source": [
    "!emit h:0011223344556677 | add 8 | peek -W 16 -r"
   ]
  },
  {
   "cell_type": "code",
   "execution_count": 13,
   "id": "05b8503e",
   "metadata": {},
   "outputs": [
    {
     "name": "stdout",
     "output_type": "stream",
     "text": [
      "--------------------------------------------------------------------\n",
      "\u001b[39m0: \u001b[91mF8 \u001b[36m09 \u001b[91m1A \u001b[39m2B 3C 4D 5E 6F\u001b[39m                          \u001b[91m.\u001b[36m.\u001b[91m.\u001b[39m+<M^o\u001b[39m\n",
      "--------------------------------------------------------------------\n"
     ]
    }
   ],
   "source": [
    "!emit h:0011223344556677 | sub 8 | peek -W 16 -r"
   ]
  },
  {
   "cell_type": "code",
   "execution_count": 14,
   "id": "c01416e1",
   "metadata": {},
   "outputs": [
    {
     "name": "stdout",
     "output_type": "stream",
     "text": [
      "--------------------------------------------------------------------\n",
      "\u001b[39m0: \u001b[91m11 \u001b[39m33 55 77 55 77 \u001b[91m99 BB\u001b[39m                          \u001b[91m.\u001b[39m3UwUw\u001b[91m..\u001b[39m\n",
      "--------------------------------------------------------------------\n"
     ]
    }
   ],
   "source": [
    "!emit h:0011223344556677 | add h:11223344 | peek -W 16 -r"
   ]
  },
  {
   "cell_type": "code",
   "execution_count": 15,
   "id": "bb1c96d1",
   "metadata": {},
   "outputs": [
    {
     "name": "stdout",
     "output_type": "stream",
     "text": [
      "00110110\n"
     ]
    }
   ],
   "source": [
    "!emit 11001001 | pack 2 | neg | pack -R 2 -w 8"
   ]
  },
  {
   "cell_type": "code",
   "execution_count": 16,
   "id": "93ece75f",
   "metadata": {},
   "outputs": [
    {
     "name": "stdout",
     "output_type": "stream",
     "text": [
      "01001110\n"
     ]
    }
   ],
   "source": [
    "!emit 11001001 | pack 2 | rotl 3 | pack -R 2 -w 8"
   ]
  },
  {
   "cell_type": "code",
   "execution_count": 17,
   "id": "692b5c38",
   "metadata": {},
   "outputs": [
    {
     "name": "stdout",
     "output_type": "stream",
     "text": [
      "10011100\n"
     ]
    }
   ],
   "source": [
    "!emit 11001001 | pack 2 | rotr 4 | pack -R 2 -w 8"
   ]
  },
  {
   "cell_type": "code",
   "execution_count": 18,
   "id": "f5cb13c7",
   "metadata": {},
   "outputs": [
    {
     "name": "stdout",
     "output_type": "stream",
     "text": [
      "01001000\n"
     ]
    }
   ],
   "source": [
    "!emit 11001001 | pack 2 | shl 3 | pack -R 2 -w 8"
   ]
  },
  {
   "cell_type": "code",
   "execution_count": 19,
   "id": "b183d75a",
   "metadata": {},
   "outputs": [
    {
     "name": "stdout",
     "output_type": "stream",
     "text": [
      "00001100\n"
     ]
    }
   ],
   "source": [
    "!emit 11001001 | pack 2 | shr 4 | pack -R 2 -w 8"
   ]
  },
  {
   "cell_type": "code",
   "execution_count": 20,
   "id": "933bd206",
   "metadata": {},
   "outputs": [
    {
     "name": "stdout",
     "output_type": "stream",
     "text": [
      "01000010\n"
     ]
    }
   ],
   "source": [
    "!emit h:61 | xor h:23 | pack -R 2 -w 8"
   ]
  },
  {
   "cell_type": "code",
   "execution_count": 21,
   "id": "7fe28446",
   "metadata": {},
   "outputs": [
    {
     "name": "stdout",
     "output_type": "stream",
     "text": [
      "CC\n"
     ]
    }
   ],
   "source": [
    "!ef /bin/ls | xor 0xcc | xkey | hex -R"
   ]
  },
  {
   "cell_type": "code",
   "execution_count": 22,
   "id": "f2c03653",
   "metadata": {},
   "outputs": [
    {
     "name": "stdout",
     "output_type": "stream",
     "text": [
      "Binary Refinery\n"
     ]
    }
   ],
   "source": [
    "!emit QmluYXJ5IFJlZmluZXJ5Cg== | b64"
   ]
  },
  {
   "cell_type": "code",
   "execution_count": 23,
   "id": "dc95f667",
   "metadata": {},
   "outputs": [
    {
     "name": "stdout",
     "output_type": "stream",
     "text": [
      "---------------------------------------------------------------------\n",
      "\u001b[39m00: \u001b[91mFF EE DD CC BB AA 99 88 \u001b[39m77 66 55 44 33 22 \u001b[91m11 \u001b[90m00\u001b[39m  \u001b[91m........\u001b[39mwfUD3\"\u001b[91m.\u001b[90m.\u001b[39m\n",
      "---------------------------------------------------------------------\n"
     ]
    }
   ],
   "source": [
    "!emit h:00112233445566778899AABBCCDDEEFF | rev | peek -W 16 -r"
   ]
  },
  {
   "cell_type": "code",
   "execution_count": 24,
   "id": "db9a68c6",
   "metadata": {},
   "outputs": [
    {
     "name": "stdout",
     "output_type": "stream",
     "text": [
      "---------------------------------------------------------------------\n",
      "\u001b[39m00: 33 22 \u001b[91m11 \u001b[90m00 \u001b[39m77 66 55 44 \u001b[91mBB AA 99 88 FF EE DD CC\u001b[39m  3\"\u001b[91m.\u001b[90m.\u001b[39mwfUD\u001b[91m........\u001b[39m\n",
      "---------------------------------------------------------------------\n"
     ]
    }
   ],
   "source": [
    "!emit h:00112233445566778899AABBCCDDEEFF | byteswap | peek -W 16 -r"
   ]
  },
  {
   "cell_type": "code",
   "execution_count": 25,
   "id": "bbecc73f",
   "metadata": {},
   "outputs": [
    {
     "name": "stdout",
     "output_type": "stream",
     "text": [
      "*#Ovanel Ersvarel+-\n"
     ]
    }
   ],
   "source": [
    "!echo \"*#Binary Refinery+-\" | rot\n"
   ]
  },
  {
   "cell_type": "code",
   "execution_count": 26,
   "id": "e074e3fd",
   "metadata": {},
   "outputs": [
    {
     "name": "stdout",
     "output_type": "stream",
     "text": [
      "*#Binary Refinery+-\n"
     ]
    }
   ],
   "source": [
    "!echo \"*#Ovanel Ersvarel+-\" | rot"
   ]
  },
  {
   "cell_type": "code",
   "execution_count": 27,
   "id": "88cb519c",
   "metadata": {},
   "outputs": [
    {
     "name": "stdout",
     "output_type": "stream",
     "text": [
      "https://example.com/Binary%20Refinery%E3%81%A7%E8%A7%A3%E6%9E%90/\n"
     ]
    }
   ],
   "source": [
    "!emit \"https://example.com/Binary Refineryで解析/\" | url -R"
   ]
  },
  {
   "cell_type": "code",
   "execution_count": 28,
   "id": "56d48f4a",
   "metadata": {},
   "outputs": [
    {
     "name": "stdout",
     "output_type": "stream",
     "text": [
      "---------------------------------------------------------------------\n",
      "00.096 kB; 00.00% entropy; data\n",
      "  index = 0\n",
      "---------------------------------------------------------------------\n",
      "\u001b[39m00: \u001b[91m11 11 11 11 11 11 11 11 11 11 11 11 11 11 11 11\u001b[39m  \u001b[91m................\u001b[39m\n",
      "..: \u001b[90m                   4 repetitions\u001b[39m\n",
      "\u001b[39m50: \u001b[91m11 11 11 11 11 11 11 11 11 11 11 11 11 11 11 11\u001b[39m  \u001b[91m................\u001b[39m\n",
      "---------------------------------------------------------------------\n"
     ]
    }
   ],
   "source": [
    "!emit h:11 | stretch 96 | zl -R -g | dump 11.bin.gz\n",
    "!gzip -cd 11.bin.gz | peek -W 16"
   ]
  },
  {
   "cell_type": "code",
   "execution_count": 29,
   "id": "5fea69ef",
   "metadata": {},
   "outputs": [
    {
     "name": "stdout",
     "output_type": "stream",
     "text": [
      "--------------------------------------------------------------------\n",
      "00.014 kB; 30.05% entropy; data\n",
      "  index = 0\n",
      "--------------------------------------------------------------------\n",
      "\u001b[39m0: \u001b[91mE0 \u001b[90m00 \u001b[39m5F \u001b[90m00 \u001b[91m06 \u001b[39m5D \u001b[90m00 \u001b[91m08 EE 96 \u001b[90m00 00 00 00\u001b[39m        \u001b[91m.\u001b[90m.\u001b[39m_\u001b[90m.\u001b[91m.\u001b[39m]\u001b[90m.\u001b[91m...\u001b[90m....\u001b[39m\n",
      "--------------------------------------------------------------------\n"
     ]
    }
   ],
   "source": [
    "!emit h:11 | stretch 96 | lzma -R -r | peek -W 16"
   ]
  },
  {
   "cell_type": "code",
   "execution_count": 30,
   "id": "ab5fa67f",
   "metadata": {},
   "outputs": [
    {
     "name": "stdout",
     "output_type": "stream",
     "text": [
      "---------------------------------------------------------------------\n",
      "00.096 kB; 00.00% entropy; data\n",
      "  index = 0\n",
      "---------------------------------------------------------------------\n",
      "\u001b[39m00: \u001b[91m11 11 11 11 11 11 11 11 11 11 11 11 11 11 11 11\u001b[39m  \u001b[91m................\u001b[39m\n",
      "..: \u001b[90m                   4 repetitions\u001b[39m\n",
      "\u001b[39m50: \u001b[91m11 11 11 11 11 11 11 11 11 11 11 11 11 11 11 11\u001b[39m  \u001b[91m................\u001b[39m\n",
      "---------------------------------------------------------------------\n"
     ]
    }
   ],
   "source": [
    "!emit h:11 | stretch 96 | zl -R | decompress | peek -W 16"
   ]
  },
  {
   "cell_type": "code",
   "execution_count": 31,
   "id": "89cdbe8d",
   "metadata": {},
   "outputs": [
    {
     "name": "stdout",
     "output_type": "stream",
     "text": [
      "(16:19:47) failure in decompress: exception of type TypeError; object of type 'NoneType' has no len()\n"
     ]
    }
   ],
   "source": [
    "!emit h:11 | stretch 96 | lzma -R -r | decompress -P | peek -W 16"
   ]
  },
  {
   "cell_type": "code",
   "execution_count": null,
   "id": "5ae67394",
   "metadata": {},
   "outputs": [],
   "source": []
  }
 ],
 "metadata": {
  "kernelspec": {
   "display_name": "binenv",
   "language": "python",
   "name": "python3"
  },
  "language_info": {
   "codemirror_mode": {
    "name": "ipython",
    "version": 3
   },
   "file_extension": ".py",
   "mimetype": "text/x-python",
   "name": "python",
   "nbconvert_exporter": "python",
   "pygments_lexer": "ipython3",
   "version": "3.13.5"
  }
 },
 "nbformat": 4,
 "nbformat_minor": 5
}
