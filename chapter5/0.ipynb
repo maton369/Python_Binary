{
 "cells": [
  {
   "cell_type": "code",
   "execution_count": 1,
   "id": "dd7f252f",
   "metadata": {},
   "outputs": [
    {
     "name": "stdout",
     "output_type": "stream",
     "text": [
      "Collecting binary-refinery\n",
      "  Downloading binary_refinery-0.8.24.tar.gz (695 kB)\n",
      "\u001b[2K     \u001b[90m━━━━━━━━━━━━━━━━━━━━━━━━━━━━━━━━━━━━━\u001b[0m \u001b[32m695.6/695.6 kB\u001b[0m \u001b[31m104.7 kB/s\u001b[0m eta \u001b[36m0:00:00\u001b[0ma \u001b[36m0:00:02\u001b[0m\n",
      "\u001b[?25h  Installing build dependencies ... \u001b[?25ldone\n",
      "\u001b[?25h  Getting requirements to build wheel ... \u001b[?25ldone\n",
      "\u001b[?25h  Preparing metadata (pyproject.toml) ... \u001b[?25ldone\n",
      "\u001b[?25hCollecting colorama (from binary-refinery)\n",
      "  Using cached colorama-0.4.6-py2.py3-none-any.whl.metadata (17 kB)\n",
      "Collecting defusedxml (from binary-refinery)\n",
      "  Using cached defusedxml-0.7.1-py2.py3-none-any.whl.metadata (32 kB)\n",
      "Collecting lief>=0.16.0 (from binary-refinery)\n",
      "  Using cached lief-0.16.6-cp313-cp313-macosx_11_0_arm64.whl.metadata (2.4 kB)\n",
      "Collecting msgpack>=1.0.0 (from binary-refinery)\n",
      "  Using cached msgpack-1.1.1-cp313-cp313-macosx_11_0_arm64.whl.metadata (8.4 kB)\n",
      "Collecting pycryptodomex (from binary-refinery)\n",
      "  Using cached pycryptodomex-3.23.0-cp37-abi3-macosx_10_9_universal2.whl.metadata (3.4 kB)\n",
      "Collecting setuptools (from binary-refinery)\n",
      "  Using cached setuptools-80.9.0-py3-none-any.whl.metadata (6.6 kB)\n",
      "Collecting toml (from binary-refinery)\n",
      "  Using cached toml-0.10.2-py2.py3-none-any.whl.metadata (7.1 kB)\n",
      "Collecting wheel (from binary-refinery)\n",
      "  Using cached wheel-0.45.1-py3-none-any.whl.metadata (2.3 kB)\n",
      "Requirement already satisfied: python-magic in /Users/maton/Python_Binary/binenv/lib/python3.13/site-packages (from binary-refinery) (0.4.27)\n",
      "Collecting capstone (from binary-refinery)\n",
      "  Using cached capstone-5.0.6-py3-none-macosx_11_0_arm64.whl.metadata (3.3 kB)\n",
      "Collecting pyperclip (from binary-refinery)\n",
      "  Downloading pyperclip-1.9.0.tar.gz (20 kB)\n",
      "  Installing build dependencies ... \u001b[?25ldone\n",
      "\u001b[?25h  Getting requirements to build wheel ... \u001b[?25ldone\n",
      "\u001b[?25h  Preparing metadata (pyproject.toml) ... \u001b[?25ldone\n",
      "\u001b[?25hUsing cached lief-0.16.6-cp313-cp313-macosx_11_0_arm64.whl (2.6 MB)\n",
      "Using cached msgpack-1.1.1-cp313-cp313-macosx_11_0_arm64.whl (78 kB)\n",
      "Downloading capstone-5.0.6-py3-none-macosx_11_0_arm64.whl (1.2 MB)\n",
      "\u001b[2K   \u001b[90m━━━━━━━━━━━━━━━━━━━━━━━━━━━━━━━━━━━━━━━━\u001b[0m \u001b[32m1.2/1.2 MB\u001b[0m \u001b[31m194.6 kB/s\u001b[0m eta \u001b[36m0:00:00\u001b[0ma \u001b[36m0:00:01\u001b[0m\n",
      "\u001b[?25hUsing cached colorama-0.4.6-py2.py3-none-any.whl (25 kB)\n",
      "Using cached defusedxml-0.7.1-py2.py3-none-any.whl (25 kB)\n",
      "Using cached pycryptodomex-3.23.0-cp37-abi3-macosx_10_9_universal2.whl (2.5 MB)\n",
      "Using cached setuptools-80.9.0-py3-none-any.whl (1.2 MB)\n",
      "Using cached toml-0.10.2-py2.py3-none-any.whl (16 kB)\n",
      "Using cached wheel-0.45.1-py3-none-any.whl (72 kB)\n",
      "Building wheels for collected packages: binary-refinery, pyperclip\n",
      "  Building wheel for binary-refinery (pyproject.toml) ... \u001b[?25ldone\n",
      "\u001b[?25h  Created wheel for binary-refinery: filename=binary_refinery-0.8.24-py3-none-any.whl size=860232 sha256=4a42ca77f7b1091f83fbb87470fbc50370bc01d1ddf1e8cbf6380a712c40c44b\n",
      "  Stored in directory: /Users/maton/Library/Caches/pip/wheels/a5/87/15/1a4940dd9c0daeb40b07eb07e6e6c0ba394594aa4fe3b2a327\n",
      "  Building wheel for pyperclip (pyproject.toml) ... \u001b[?25ldone\n",
      "\u001b[?25h  Created wheel for pyperclip: filename=pyperclip-1.9.0-py3-none-any.whl size=11103 sha256=d439d17d2612b9c91ad52d8cab155f0b1f51d5f33a950707fa72c368f4987f60\n",
      "  Stored in directory: /Users/maton/Library/Caches/pip/wheels/9c/79/90/c9e831caaffa2633ad99f1d35c6ea39866b92de62e909e89ef\n",
      "Successfully built binary-refinery pyperclip\n",
      "Installing collected packages: pyperclip, wheel, toml, setuptools, pycryptodomex, msgpack, lief, defusedxml, colorama, capstone, binary-refinery\n",
      "\u001b[2K   \u001b[90m━━━━━━━━━━━━━━━━━━━━━━━━━━━━━━━━━━━━━━━━\u001b[0m \u001b[32m11/11\u001b[0m [binary-refinery] [binary-refinery]\n",
      "\u001b[1A\u001b[2KSuccessfully installed binary-refinery-0.8.24 capstone-5.0.6 colorama-0.4.6 defusedxml-0.7.1 lief-0.16.6 msgpack-1.1.1 pycryptodomex-3.23.0 pyperclip-1.9.0 setuptools-80.9.0 toml-0.10.2 wheel-0.45.1\n"
     ]
    }
   ],
   "source": [
    "!pip install binary-refinery"
   ]
  },
  {
   "cell_type": "code",
   "execution_count": null,
   "id": "a50742e3",
   "metadata": {},
   "outputs": [],
   "source": []
  }
 ],
 "metadata": {
  "kernelspec": {
   "display_name": "binenv",
   "language": "python",
   "name": "python3"
  },
  "language_info": {
   "codemirror_mode": {
    "name": "ipython",
    "version": 3
   },
   "file_extension": ".py",
   "mimetype": "text/x-python",
   "name": "python",
   "nbconvert_exporter": "python",
   "pygments_lexer": "ipython3",
   "version": "3.13.5"
  }
 },
 "nbformat": 4,
 "nbformat_minor": 5
}
