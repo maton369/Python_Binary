{
 "cells": [
  {
   "cell_type": "code",
   "execution_count": null,
   "id": "16f19feb",
   "metadata": {},
   "outputs": [],
   "source": [
    "import mimetypes\n",
    "\n",
    "mimetypes.guess_type(\"../sample/README.md\")"
   ]
  }
 ],
 "metadata": {
  "kernelspec": {
   "display_name": "binenv",
   "language": "python",
   "name": "python3"
  },
  "language_info": {
   "name": "python",
   "version": "3.13.4"
  }
 },
 "nbformat": 4,
 "nbformat_minor": 5
}
