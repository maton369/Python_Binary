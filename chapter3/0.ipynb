{
 "cells": [
  {
   "cell_type": "code",
   "execution_count": 2,
   "id": "16f19feb",
   "metadata": {},
   "outputs": [
    {
     "data": {
      "text/plain": [
       "('text/markdown', None)"
      ]
     },
     "execution_count": 2,
     "metadata": {},
     "output_type": "execute_result"
    }
   ],
   "source": [
    "import mimetypes\n",
    "\n",
    "mimetypes.guess_type(\"../sample/README.md\")"
   ]
  },
  {
   "cell_type": "code",
   "execution_count": 3,
   "id": "3830401b",
   "metadata": {},
   "outputs": [
    {
     "data": {
      "text/plain": [
       "(None, None)"
      ]
     },
     "execution_count": 3,
     "metadata": {},
     "output_type": "execute_result"
    }
   ],
   "source": [
    "mimetypes.guess_type(\"/bin/ls\")"
   ]
  },
  {
   "cell_type": "code",
   "execution_count": 5,
   "id": "a14c6cf8",
   "metadata": {},
   "outputs": [
    {
     "data": {
      "text/plain": [
       "'text/plain'"
      ]
     },
     "execution_count": 5,
     "metadata": {},
     "output_type": "execute_result"
    }
   ],
   "source": [
    "import magic\n",
    "\n",
    "magic.from_file(\"../sample/README.md\")\n",
    "magic.from_file(\"../sample/README.md\", mime=True)"
   ]
  },
  {
   "cell_type": "code",
   "execution_count": 8,
   "id": "97b56f38",
   "metadata": {},
   "outputs": [
    {
     "data": {
      "text/plain": [
       "'Mach-O universal binary with 2 architectures: [x86_64:\\\\012- Mach-O 64-bit x86_64 executable, flags:<NOUNDEFS|DYLDLINK|TWOLEVEL|PIE>] [\\\\012- arm64e (caps: 0x2):\\\\012- Mach-O 64-bit arm64e (caps: PAC00) executable, flags:<NOUNDEFS|DYLDLINK|TWOLEVEL|PIE>]'"
      ]
     },
     "execution_count": 8,
     "metadata": {},
     "output_type": "execute_result"
    }
   ],
   "source": [
    "magic.from_file(\"/bin/ls\")"
   ]
  },
  {
   "cell_type": "code",
   "execution_count": 10,
   "id": "b836c9e4",
   "metadata": {},
   "outputs": [
    {
     "data": {
      "text/plain": [
       "'Mach-O universal binary with 2 architectures: [x86_64:\\\\012- Mach-O 64-bit x86_64 executable, flags:<NOUNDEFS|DYLDLINK|TWOLEVEL|PIE>] [\\\\012- arm64e (caps: 0x2):\\\\012- Mach-O 64-bit arm64e (caps: PAC00) executable, flags:<NOUNDEFS|DYLDLINK|TWOLEVEL|PIE>]'"
      ]
     },
     "execution_count": 10,
     "metadata": {},
     "output_type": "execute_result"
    }
   ],
   "source": [
    "magic.from_buffer(open(\"/bin/ls\", \"rb\").read())"
   ]
  },
  {
   "cell_type": "code",
   "execution_count": 14,
   "id": "3d11962e",
   "metadata": {},
   "outputs": [],
   "source": [
    "def filetype_check(filepath):\n",
    "    signature = [\n",
    "        [\"Executable and Linkable Format\", 0, b\"\\x7f\\x45\\x4c\\x46\"],\n",
    "        [\"PDF document\", 0, b\"\\x25\\x50\\x44\\x46\\x2d\"],\n",
    "        [\"Mach-O 64-bit executable\", 0, b\"\\xcf\\xfa\\xed\\xfe\"],\n",
    "        [\"Mach-O 32-bit executable\", 0, b\"\\xce\\xfa\\xed\\xfe\"],\n",
    "        [\"Mach-O fat binary\", 0, b\"\\xca\\xfe\\xba\\xbe\"],\n",
    "        [\"Mach-O fat binary (LE)\", 0, b\"\\xbe\\xba\\xfe\\xca\"],\n",
    "    ]\n",
    "    with open(filepath, \"rb\") as f:\n",
    "        head = f.read(12)\n",
    "        for desc, offset, magic in signature:\n",
    "            if head[offset : offset + len(magic)] == magic:\n",
    "                return desc\n",
    "    return \"Unknown\""
   ]
  },
  {
   "cell_type": "code",
   "execution_count": 15,
   "id": "772aa746",
   "metadata": {},
   "outputs": [
    {
     "data": {
      "text/plain": [
       "'Unknown'"
      ]
     },
     "execution_count": 15,
     "metadata": {},
     "output_type": "execute_result"
    }
   ],
   "source": [
    "filetype_check(\"../sample/README.md\")"
   ]
  },
  {
   "cell_type": "code",
   "execution_count": 16,
   "id": "177b9bb1",
   "metadata": {},
   "outputs": [
    {
     "data": {
      "text/plain": [
       "'Mach-O fat binary'"
      ]
     },
     "execution_count": 16,
     "metadata": {},
     "output_type": "execute_result"
    }
   ],
   "source": [
    "filetype_check(\"/bin/ls\")"
   ]
  },
  {
   "cell_type": "code",
   "execution_count": 18,
   "id": "19e07487",
   "metadata": {},
   "outputs": [
    {
     "name": "stdout",
     "output_type": "stream",
     "text": [
      "MagikaResult(path=../sample/README.md, status=ok, prediction=MagikaPrediction(dl=ContentTypeInfo(label=markdown, mime_type='text/markdown', group='text', description='Markdown document', extensions=['md', 'markdown'], is_text=True), output=ContentTypeInfo(label=txt, mime_type='text/plain', group='text', description='Generic text document', extensions=['txt'], is_text=True), score=0.7201758027076721, overwrite_reason=<OverwriteReason.LOW_CONFIDENCE: 'low_confidence'>))\n"
     ]
    }
   ],
   "source": [
    "from magika import Magika\n",
    "from pathlib import Path\n",
    "\n",
    "m = Magika()\n",
    "\n",
    "res = m.identify_path(Path(\"../sample/README.md\"))\n",
    "print(res)"
   ]
  },
  {
   "cell_type": "code",
   "execution_count": null,
   "id": "6e98e6b1",
   "metadata": {},
   "outputs": [],
   "source": []
  }
 ],
 "metadata": {
  "kernelspec": {
   "display_name": "binenv",
   "language": "python",
   "name": "python3"
  },
  "language_info": {
   "codemirror_mode": {
    "name": "ipython",
    "version": 3
   },
   "file_extension": ".py",
   "mimetype": "text/x-python",
   "name": "python",
   "nbconvert_exporter": "python",
   "pygments_lexer": "ipython3",
   "version": "3.13.5"
  }
 },
 "nbformat": 4,
 "nbformat_minor": 5
}
