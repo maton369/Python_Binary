{
 "cells": [
  {
   "cell_type": "code",
   "execution_count": 2,
   "id": "16f19feb",
   "metadata": {},
   "outputs": [
    {
     "data": {
      "text/plain": [
       "('text/markdown', None)"
      ]
     },
     "execution_count": 2,
     "metadata": {},
     "output_type": "execute_result"
    }
   ],
   "source": [
    "import mimetypes\n",
    "\n",
    "mimetypes.guess_type(\"../sample/README.md\")"
   ]
  },
  {
   "cell_type": "code",
   "execution_count": 3,
   "id": "3830401b",
   "metadata": {},
   "outputs": [
    {
     "data": {
      "text/plain": [
       "(None, None)"
      ]
     },
     "execution_count": 3,
     "metadata": {},
     "output_type": "execute_result"
    }
   ],
   "source": [
    "mimetypes.guess_type(\"/bin/ls\")"
   ]
  },
  {
   "cell_type": "code",
   "execution_count": null,
   "id": "a14c6cf8",
   "metadata": {},
   "outputs": [
    {
     "ename": "FileNotFoundError",
     "evalue": "[Errno 2] No such file or directory: './sample/README.md'",
     "output_type": "error",
     "traceback": [
      "\u001b[31m---------------------------------------------------------------------------\u001b[39m",
      "\u001b[31mFileNotFoundError\u001b[39m                         Traceback (most recent call last)",
      "\u001b[36mCell\u001b[39m\u001b[36m \u001b[39m\u001b[32mIn[3]\u001b[39m\u001b[32m, line 4\u001b[39m\n\u001b[32m      1\u001b[39m \u001b[38;5;28;01mimport\u001b[39;00m\u001b[38;5;250m \u001b[39m\u001b[34;01mmagic\u001b[39;00m\n\u001b[32m      3\u001b[39m magic.from_file(\u001b[33m\"\u001b[39m\u001b[33m../sample/README.md\u001b[39m\u001b[33m\"\u001b[39m)\n\u001b[32m----> \u001b[39m\u001b[32m4\u001b[39m \u001b[43mmagic\u001b[49m\u001b[43m.\u001b[49m\u001b[43mfrom_file\u001b[49m\u001b[43m(\u001b[49m\u001b[33;43m\"\u001b[39;49m\u001b[33;43m./sample/README.md\u001b[39;49m\u001b[33;43m\"\u001b[39;49m\u001b[43m,\u001b[49m\u001b[43m \u001b[49m\u001b[43mmime\u001b[49m\u001b[43m=\u001b[49m\u001b[38;5;28;43;01mTrue\u001b[39;49;00m\u001b[43m)\u001b[49m\n",
      "\u001b[36mFile \u001b[39m\u001b[32m~/Python_Binary/binenv/lib/python3.13/site-packages/magic/__init__.py:179\u001b[39m, in \u001b[36mfrom_file\u001b[39m\u001b[34m(filename, mime)\u001b[39m\n\u001b[32m    170\u001b[39m \u001b[38;5;250m\u001b[39m\u001b[33;03m\"\"\"\"\u001b[39;00m\n\u001b[32m    171\u001b[39m \u001b[33;03mAccepts a filename and returns the detected filetype.  Return\u001b[39;00m\n\u001b[32m    172\u001b[39m \u001b[33;03mvalue is the mimetype if mime=True, otherwise a human readable\u001b[39;00m\n\u001b[32m   (...)\u001b[39m\u001b[32m    176\u001b[39m \u001b[33;03m'application/pdf'\u001b[39;00m\n\u001b[32m    177\u001b[39m \u001b[33;03m\"\"\"\u001b[39;00m\n\u001b[32m    178\u001b[39m m = _get_magic_type(mime)\n\u001b[32m--> \u001b[39m\u001b[32m179\u001b[39m \u001b[38;5;28;01mreturn\u001b[39;00m \u001b[43mm\u001b[49m\u001b[43m.\u001b[49m\u001b[43mfrom_file\u001b[49m\u001b[43m(\u001b[49m\u001b[43mfilename\u001b[49m\u001b[43m)\u001b[49m\n",
      "\u001b[36mFile \u001b[39m\u001b[32m~/Python_Binary/binenv/lib/python3.13/site-packages/magic/__init__.py:112\u001b[39m, in \u001b[36mMagic.from_file\u001b[39m\u001b[34m(self, filename)\u001b[39m\n\u001b[32m    110\u001b[39m \u001b[38;5;28;01mdef\u001b[39;00m\u001b[38;5;250m \u001b[39m\u001b[34mfrom_file\u001b[39m(\u001b[38;5;28mself\u001b[39m, filename):\n\u001b[32m    111\u001b[39m     \u001b[38;5;66;03m# raise FileNotFoundException or IOError if the file does not exist\u001b[39;00m\n\u001b[32m--> \u001b[39m\u001b[32m112\u001b[39m     \u001b[38;5;28;01mwith\u001b[39;00m \u001b[43m_real_open\u001b[49m\u001b[43m(\u001b[49m\u001b[43mfilename\u001b[49m\u001b[43m)\u001b[49m:\n\u001b[32m    113\u001b[39m         \u001b[38;5;28;01mpass\u001b[39;00m\n\u001b[32m    115\u001b[39m     \u001b[38;5;28;01mwith\u001b[39;00m \u001b[38;5;28mself\u001b[39m.lock:\n",
      "\u001b[31mFileNotFoundError\u001b[39m: [Errno 2] No such file or directory: './sample/README.md'"
     ]
    }
   ],
   "source": [
    "import magic\n",
    "\n",
    "magic.from_file(\"../sample/README.md\")\n",
    "magic.from_file(\"../sample/README.md\", mime=True)"
   ]
  },
  {
   "cell_type": "markdown",
   "id": "42a40e13",
   "metadata": {},
   "source": []
  },
  {
   "cell_type": "code",
   "execution_count": null,
   "id": "97b56f38",
   "metadata": {},
   "outputs": [],
   "source": []
  }
 ],
 "metadata": {
  "kernelspec": {
   "display_name": "binenv",
   "language": "python",
   "name": "python3"
  },
  "language_info": {
   "codemirror_mode": {
    "name": "ipython",
    "version": 3
   },
   "file_extension": ".py",
   "mimetype": "text/x-python",
   "name": "python",
   "nbconvert_exporter": "python",
   "pygments_lexer": "ipython3",
   "version": "3.13.5"
  }
 },
 "nbformat": 4,
 "nbformat_minor": 5
}
