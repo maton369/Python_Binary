{
 "cells": [
  {
   "cell_type": "code",
   "execution_count": 2,
   "id": "16f19feb",
   "metadata": {},
   "outputs": [
    {
     "data": {
      "text/plain": [
       "('text/markdown', None)"
      ]
     },
     "execution_count": 2,
     "metadata": {},
     "output_type": "execute_result"
    }
   ],
   "source": [
    "import mimetypes\n",
    "\n",
    "mimetypes.guess_type(\"../sample/README.md\")"
   ]
  },
  {
   "cell_type": "code",
   "execution_count": null,
   "id": "3830401b",
   "metadata": {},
   "outputs": [],
   "source": [
    "mimetypes.guess_type(\"/bin/ls\")"
   ]
  }
 ],
 "metadata": {
  "kernelspec": {
   "display_name": "binenv",
   "language": "python",
   "name": "python3"
  },
  "language_info": {
   "codemirror_mode": {
    "name": "ipython",
    "version": 3
   },
   "file_extension": ".py",
   "mimetype": "text/x-python",
   "name": "python",
   "nbconvert_exporter": "python",
   "pygments_lexer": "ipython3",
   "version": "3.13.4"
  }
 },
 "nbformat": 4,
 "nbformat_minor": 5
}
